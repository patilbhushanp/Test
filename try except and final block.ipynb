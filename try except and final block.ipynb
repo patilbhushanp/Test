{
 "cells": [
  {
   "cell_type": "code",
   "execution_count": 9,
   "metadata": {},
   "outputs": [],
   "source": [
    "def add(num1, num2):\n",
    "    return num1 + num2"
   ]
  },
  {
   "cell_type": "markdown",
   "metadata": {},
   "source": [
    "### try-except example (Handling all Exceptions)"
   ]
  },
  {
   "cell_type": "code",
   "execution_count": 10,
   "metadata": {},
   "outputs": [
    {
     "name": "stdout",
     "output_type": "stream",
     "text": [
      "Input for add method is not correct\n",
      "My program is running!!!\n"
     ]
    }
   ],
   "source": [
    "try:\n",
    "    num1 = 10\n",
    "    num2 = '10'\n",
    "    add(num1, num2)\n",
    "except:\n",
    "    print('Input for add method is not correct')\n",
    "print('My program is running!!!')"
   ]
  },
  {
   "cell_type": "markdown",
   "metadata": {},
   "source": [
    "### try-except-else block example 1"
   ]
  },
  {
   "cell_type": "code",
   "execution_count": 17,
   "metadata": {},
   "outputs": [
    {
     "name": "stdout",
     "output_type": "stream",
     "text": [
      "Input for add method is correct\n",
      "My program is running!!!\n"
     ]
    }
   ],
   "source": [
    "try:\n",
    "    num1 = 10\n",
    "    num2 = 10\n",
    "    add(num1, num2)\n",
    "except:\n",
    "    print('Input for add method is not correct')\n",
    "else:\n",
    "    print('Input for add method is correct')\n",
    "print('My program is running!!!')"
   ]
  },
  {
   "cell_type": "markdown",
   "metadata": {},
   "source": [
    "### try-except-else block example 2"
   ]
  },
  {
   "cell_type": "code",
   "execution_count": null,
   "metadata": {},
   "outputs": [],
   "source": [
    "try:\n",
    "    num1 = 10\n",
    "    num2 = '10'\n",
    "    add(num1, num2)\n",
    "except TypeError:\n",
    "    print('Got Type Error')\n",
    "else:\n",
    "    print('Input for add method is correct')\n",
    "print('My program is running!!!')"
   ]
  },
  {
   "cell_type": "markdown",
   "metadata": {},
   "source": [
    "### File operation and OSError exception"
   ]
  },
  {
   "cell_type": "code",
   "execution_count": 16,
   "metadata": {},
   "outputs": [
    {
     "name": "stdout",
     "output_type": "stream",
     "text": [
      "Failed to write into file.\n",
      "Closing file\n"
     ]
    }
   ],
   "source": [
    "try:\n",
    "    f = open('textFile.txt', 'r')\n",
    "    f.write('Hello World, First line of code.')\n",
    "except OSError:\n",
    "    print('Failed to write into file.')\n",
    "finally:\n",
    "    print('Closing file')\n",
    "    f.close()"
   ]
  },
  {
   "cell_type": "markdown",
   "metadata": {},
   "source": [
    "### try-except-finally with input example 1"
   ]
  },
  {
   "cell_type": "code",
   "execution_count": 24,
   "metadata": {},
   "outputs": [],
   "source": [
    "def checkInputAsNumber():\n",
    "    try:\n",
    "        inputText = input('Enter valid number :')\n",
    "        return int(inputText)\n",
    "    except ValueError:\n",
    "        print('Failed to convert text to int')\n",
    "    finally:\n",
    "        print('Executing finally block')"
   ]
  },
  {
   "cell_type": "code",
   "execution_count": 25,
   "metadata": {},
   "outputs": [
    {
     "name": "stdout",
     "output_type": "stream",
     "text": [
      "Enter valid number :12\n",
      "Executing finally block\n"
     ]
    },
    {
     "data": {
      "text/plain": [
       "12"
      ]
     },
     "execution_count": 25,
     "metadata": {},
     "output_type": "execute_result"
    }
   ],
   "source": [
    "checkInputAsNumber()"
   ]
  },
  {
   "cell_type": "code",
   "execution_count": 26,
   "metadata": {},
   "outputs": [],
   "source": [
    "def checkInputAsNumber():\n",
    "    while True:\n",
    "        try:\n",
    "            inputText = input('Enter valid number :')\n",
    "            return int(inputText)\n",
    "        except ValueError:\n",
    "            print('Failed to convert text to int')\n",
    "            continue\n",
    "        else:\n",
    "            break\n",
    "        finally:\n",
    "            print('Executing finally block')"
   ]
  },
  {
   "cell_type": "code",
   "execution_count": 27,
   "metadata": {},
   "outputs": [
    {
     "name": "stdout",
     "output_type": "stream",
     "text": [
      "Enter valid number :a\n",
      "Failed to convert text to int\n",
      "Executing finally block\n",
      "Enter valid number :d\n",
      "Failed to convert text to int\n",
      "Executing finally block\n",
      "Enter valid number :1\n",
      "Executing finally block\n"
     ]
    },
    {
     "data": {
      "text/plain": [
       "1"
      ]
     },
     "execution_count": 27,
     "metadata": {},
     "output_type": "execute_result"
    }
   ],
   "source": [
    "checkInputAsNumber()"
   ]
  },
  {
   "cell_type": "code",
   "execution_count": null,
   "metadata": {},
   "outputs": [],
   "source": []
  }
 ],
 "metadata": {
  "kernelspec": {
   "display_name": "Python 3",
   "language": "python",
   "name": "python3"
  },
  "language_info": {
   "codemirror_mode": {
    "name": "ipython",
    "version": 3
   },
   "file_extension": ".py",
   "mimetype": "text/x-python",
   "name": "python",
   "nbconvert_exporter": "python",
   "pygments_lexer": "ipython3",
   "version": "3.8.3"
  }
 },
 "nbformat": 4,
 "nbformat_minor": 4
}
